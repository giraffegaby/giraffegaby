{
 "cells": [
  {
   "cell_type": "code",
   "execution_count": 1,
   "metadata": {},
   "outputs": [],
   "source": [
    "from my_module.functions import my_func, my_other_func\n"
   ]
  },
  {
   "cell_type": "code",
   "execution_count": 2,
   "metadata": {},
   "outputs": [],
   "source": [
    "def choose_chi_square(type_chi_square):\n",
    "    \n",
    "    lower_type_chi_square = type_chi_square.lower()\n",
    "    \n",
    "    if lower_type_chi_square == \"hardy weinberg equilibrium\":\n",
    "        print(\"The population is in Hardy Weinberg Equilibrium. Any deviation can be attributed to chance.\")\n",
    "        homo_recessive = int(input(\"Amount of homogenous recessive individuals observed in the population: \")) \n",
    "        hetero = int(input(\"Amount of heterogenous individuals observed in the population: \" ))\n",
    "        homo_dominant = int(input(\"Amount of homogenous dominant individuals observed in the population: \" ))\n",
    "        hardy_weinerg_equilibrium(homo_recessive, hetero, homo_dominant)\n",
    "    elif lower_type_chi_square == 'hwe':\n",
    "        print(\"The population is in Hardy Weinberg Equilibrium. Any deviation can be attributed to chance.\")  \n",
    "        homo_recessive = int(input(\"Amount of homogenous recessive individuals observed in the population: \"))  \n",
    "        hetero = int(input(\"Amount of heterogenous individuals observed in the population: \" ))\n",
    "        homo_dominant = int(input(\"Amount of homogenous dominant individuals observed in the population: \" ))\n",
    "        hardy_weinerg_equilibrium(homo_recessive, hetero, homo_dominant)\n",
    "    elif lower_type_chi_square == \"mendelian\":\n",
    "        print(\"There is no real differance between observed values and expected values. Any deviation can be attributed to chance.\")\n",
    "        dom1dom2_phen = input(\"What is the phenotype with both dominant alleles? \")\n",
    "        dom1dom2 = int(input(\"Amount of individuals in the population with this phenotype: \"))\n",
    "        dom1res2_phen = input(\"What is the phenotype with the first allele being dominant and the second being recessive? \")\n",
    "        dom1res2 = int(input(\"Amount of individuals in the population with this phenotype: \"))\n",
    "        res1dom2_phen = input(\"What is the phenotype with the first allele being recessive and the second being dominant? \")\n",
    "        res1dom2 = int(input(\"Amount of individuals in the population with this phenotype: \"))\n",
    "        res1res2_phen = input(\"What is the phenotype with both recessive alleles? \")\n",
    "        res1res2 = int(input(\"Amount of individuals in the population with this phenotype: \"))\n",
    "        mendelian(dom1dom2, dom1res2, res1dom2, res1res2)\n",
    "    else:\n",
    "        print(\"Sorry, that is not a option.\")"
   ]
  },
  {
   "cell_type": "code",
   "execution_count": 3,
   "metadata": {},
   "outputs": [],
   "source": [
    "def hardy_weinerg_equilibrium(homo_recessive, hetero, homo_dominant):\n",
    "    \n",
    "    degrees_of_freedom = 1\n",
    "    print(\"Degrees of Freedom: \" + str(degrees_of_freedom)) \n",
    "    observed_list = [homo_recessive, hetero, homo_dominant]\n",
    "    expected_list = hwe_expected_calculator(homo_recessive, hetero, homo_dominant)\n",
    "    chi_square = chi_square_calc(observed_list, expected_list)\n",
    "    print(\"Chi Square value calculated: \" + str(chi_square))\n",
    "    print(p_value_eval(chi_square, degrees_of_freedom))\n",
    "    "
   ]
  },
  {
   "cell_type": "code",
   "execution_count": 4,
   "metadata": {},
   "outputs": [],
   "source": [
    "def hwe_expected_calculator(homo_recessive, hetero, homo_dominant):\n",
    "    \n",
    "    freq_allele_homo_recessive = (2 * homo_recessive + hetero) / (2 * homo_recessive + 2 * hetero + 2 * homo_dominant)\n",
    "    freq_allele_homo_dominant = (2 * homo_dominant + hetero) / (2 * homo_recessive + 2 * hetero + 2 * homo_dominant)\n",
    "    \n",
    "    freq_homo_recessive = freq_allele_homo_recessive ** 2\n",
    "    freq_hetero = 2 * freq_allele_homo_recessive * freq_allele_homo_dominant\n",
    "    freq_homo_dominant = freq_allele_homo_dominant ** 2\n",
    "    \n",
    "    expected_homo_recessive = freq_homo_recessive * (homo_recessive + hetero + homo_dominant)\n",
    "    expected_hetero = freq_hetero * (homo_recessive + hetero + homo_dominant)\n",
    "    expected_homo_dominant = freq_homo_dominant * (homo_recessive + hetero + homo_dominant)\n",
    "    \n",
    "    expected_list = [expected_homo_recessive , expected_hetero , expected_homo_dominant]\n",
    "    \n",
    "    return expected_list"
   ]
  },
  {
   "cell_type": "code",
   "execution_count": 5,
   "metadata": {},
   "outputs": [],
   "source": [
    "def mendelian(dom1dom2, dom1res2, res1dom2, res1res2):\n",
    "    \n",
    "    observed_list = [dom1dom2, dom1res2, res1dom2, res1res2]\n",
    "    expected_list = mendelian_expected_calculator(dom1dom2, dom1res2, res1dom2, res1res2)\n",
    "    degrees_of_freedom = len(observed_list) - 1\n",
    "    print(\"Degrees of Freedom: \" + str(degrees_of_freedom))\n",
    "    #make a pada so that it will prit out a chart with the oserved ad expected..\n",
    "    chi_square = chi_square_calc(observed_list, expected_list)\n",
    "    print(\"Chi Square value calculated: \" + str(chi_square))\n",
    "    print(p_value_eval(chi_square, degrees_of_freedom))"
   ]
  },
  {
   "cell_type": "code",
   "execution_count": 6,
   "metadata": {},
   "outputs": [],
   "source": [
    "def mendelian_expected_calculator(dom1dom2, dom1res2, res1dom2, res1res2):\n",
    "    \n",
    "    expected_dom1dom2 = (9/16) * (dom1dom2 + dom1res2 + res1dom2 + res1res2)\n",
    "    expected_dom1res2 = (3/16) * (dom1dom2 + dom1res2 + res1dom2 + res1res2)\n",
    "    expected_res1dom2 = (3/16) * (dom1dom2 + dom1res2 + res1dom2 + res1res2)\n",
    "    expected_res1res2 = (1/16) * (dom1dom2 + dom1res2 + res1dom2 + res1res2)\n",
    "    \n",
    "    expected_list = [expected_dom1dom2, expected_dom1res2, expected_res1dom2, expected_res1res2]\n",
    "    \n",
    "    return expected_list"
   ]
  },
  {
   "cell_type": "code",
   "execution_count": 7,
   "metadata": {},
   "outputs": [],
   "source": [
    "def chi_square_calc(observed_list, expected_list):\n",
    "    chi_square = 0\n",
    "    for observed_value, expected_value in zip(observed_list, expected_list):\n",
    "        chi_square_value = (((observed_value - expected_value) ** 2)  / expected_value) + chi_square\n",
    "    return chi_square_value"
   ]
  },
  {
   "cell_type": "code",
   "execution_count": 8,
   "metadata": {},
   "outputs": [],
   "source": [
    "def p_value_eval(chi_square, degrees_of_freedom):\n",
    "    if degrees_of_freedom == 1:\n",
    "        if chi_square < 3.84 and chi_square >= 2.71:\n",
    "            p_value = \"p-value is about 0.10, therefore the null hypothesis is not rejected.\"\n",
    "        elif chi_square < 2.71 and chi_square >= 1.64:\n",
    "             p_value = \"p-value is about 0.20, therefore the null hypothesis is not rejected.\"\n",
    "        elif chi_square < 1.64 and chi_square >= 1.07:\n",
    "            p_value = \"p-value is about 0.30, therefore the null hypothesis is not rejected.\"\n",
    "        elif chi_square < 1.07 and chi_square >= 0.46:\n",
    "            p_value = \"p-value is about 0.50, therefore the null hypothesis is not rejected.\"\n",
    "        elif chi_square < 0.46 and chi_square >= 0.15:\n",
    "            p_value = \"p-value is about 0.70, therefore the null hypothesis is not rejected.\"\n",
    "        elif chi_square < 0.15 and chi_square >= 0.06:\n",
    "            p_value = \"p-value is about 0.80, therefore the null hypothesis is not rejected.\"\n",
    "        elif chi_square < 0.06 and chi_square >= 0.02:\n",
    "            p_value = \"p-value is about 0.90, therefore the null hypothesis is not rejected.\"\n",
    "        elif chi_square < 0.02:\n",
    "            p_value = \"p-value is about 0.95, therefore the null hypothesis is not rejected.\"\n",
    "        else:\n",
    "            p_value = \"p-value is less than 0.05, therefore there is enough evidence to reject the null hypothesis.\"\n",
    "    elif degrees_of_freedom == 2:\n",
    "        if chi_square < 5.99 and chi_square >= 4.60:\n",
    "            p_value = \"p-value is about 0.10, therefore the null hypothesis is not rejected.\"\n",
    "        elif chi_square < 4.60 and chi_square >= 3.22:\n",
    "             p_value = \"p-value is about 0.20, therefore the null hypothesis is not rejected.\"\n",
    "        elif chi_square < 3.22 and chi_square >= 2.41:\n",
    "            p_value = \"p-value is about 0.30, therefore the null hypothesis is not rejected.\"\n",
    "        elif chi_square < 2.41 and chi_square >= 1.39:\n",
    "            p_value = \"p-value is about 0.50, therefore the null hypothesis is not rejected.\"\n",
    "        elif chi_square < 1.39 and chi_square >= 0.71:\n",
    "            p_value = \"p-value is about 0.70, therefore the null hypothesis is not rejected.\"\n",
    "        elif chi_square < 0.71 and chi_square >= 0.45:\n",
    "            p_value = \"p-value is about 0.80, therefore the null hypothesis is not rejected.\"\n",
    "        elif chi_square < 0.45 and chi_square >= 0.21:\n",
    "            p_value = \"p-value is about 0.90, therefore the null hypothesis is not rejected.\"\n",
    "        elif chi_square < 0.021:\n",
    "            p_value = \"p-value is about 0.95, therefore the null hypothesis is not rejected.\"\n",
    "        else:\n",
    "            p_value = \"p-value is less than 0.05, therefore there is enough evidence to reject the null hypothesis.\"\n",
    "    elif degrees_of_freedom == 3:\n",
    "        if chi_square < 7.82 and chi_square >= 6.25:\n",
    "            p_value = \"p-value is about 0.10, therefore the null hypothesis is not rejected.\"\n",
    "        elif chi_square < 6.25 and chi_square >= 4.64:\n",
    "             p_value = \"p-value is about 0.20, therefore the null hypothesis is not rejected.\"\n",
    "        elif chi_square < 4.64 and chi_square >= 3.66:\n",
    "            p_value = \"p-value is about 0.30, therefore the null hypothesis is not rejected.\"\n",
    "        elif chi_square < 3.66 and chi_square >= 2.37:\n",
    "            p_value = \"p-value is about 0.50, therefore the null hypothesis is not rejected.\"\n",
    "        elif chi_square < 2.37 and chi_square >= 1.42:\n",
    "            p_value = \"p-value is about 0.70, therefore the null hypothesis is not rejected.\"\n",
    "        elif chi_square < 1.42 and chi_square >= 1.01:\n",
    "            p_value = \"p-value is about 0.80, therefore the null hypothesis is not rejected.\"\n",
    "        elif chi_square < 1.01 and chi_square >= 0.58:\n",
    "            p_value = \"p-value is about 0.90, therefore the null hypothesis is not rejected.\"\n",
    "        elif chi_square < 0.58:\n",
    "            p_value = \"p-value is about 0.95, therefore the null hypothesis is not rejected.\"\n",
    "        else:\n",
    "            p_value = \"p-value is less than 0.05, therefore there is enough evidence to reject the null hypothesis.\"\n",
    "    elif degrees_of_freedom == 4:\n",
    "        if chi_square < 9.49 and chi_square >= 7.78:\n",
    "            p_value = \"p-value is about 0.10, therefore the null hypothesis is not rejected.\"\n",
    "        elif chi_square < 7.78 and chi_square >= 5.99:\n",
    "             p_value = \"p-value is about 0.20, therefore the null hypothesis is not rejected.\"\n",
    "        elif chi_square < 5.99 and chi_square >= 4.88:\n",
    "            p_value = \"p-value is about 0.30, therefore the null hypothesis is not rejected.\"\n",
    "        elif chi_square < 4.88 and chi_square >= 3.36:\n",
    "            p_value = \"p-value is about 0.50, therefore the null hypothesis is not rejected.\"\n",
    "        elif chi_square < 3.36 and chi_square >= 2.20:\n",
    "            p_value = \"p-value is about 0.70, therefore the null hypothesis is not rejected.\"\n",
    "        elif chi_square < 2.20 and chi_square >= 1.65:\n",
    "            p_value = \"p-value is about 0.80, therefore the null hypothesis is not rejected.\"\n",
    "        elif chi_square < 1.65 and chi_square >= 1.06:\n",
    "            p_value = \"p-value is about 0.90, therefore the null hypothesis is not rejected.\"\n",
    "        elif chi_square < 1.06:\n",
    "            p_value = \"p-value is about 0.95, therefore the null hypothesis is not rejected.\"\n",
    "        else:\n",
    "            p_value = \"p-value is less than 0.05, therefore there is enough evidence to reject the null hypothesis.\"\n",
    "    return p_value"
   ]
  },
  {
   "cell_type": "code",
   "execution_count": null,
   "metadata": {},
   "outputs": [
    {
     "name": "stdout",
     "output_type": "stream",
     "text": [
      "There is no real differance between observed values and expected values. Any deviation can be attributed to chance.\n"
     ]
    }
   ],
   "source": [
    "##Checking that choose_chi_Ssquare works. \n",
    "type_chi_square = \"mendelian\"\n",
    "choose_chi_square(type_chi_square)"
   ]
  },
  {
   "cell_type": "code",
   "execution_count": null,
   "metadata": {},
   "outputs": [],
   "source": []
  }
 ],
 "metadata": {
  "kernelspec": {
   "display_name": "Python 3",
   "language": "python",
   "name": "python3"
  },
  "language_info": {
   "codemirror_mode": {
    "name": "ipython",
    "version": 3
   },
   "file_extension": ".py",
   "mimetype": "text/x-python",
   "name": "python",
   "nbconvert_exporter": "python",
   "pygments_lexer": "ipython3",
   "version": "3.7.0"
  }
 },
 "nbformat": 4,
 "nbformat_minor": 2
}
